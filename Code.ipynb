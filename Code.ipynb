{
 "cells": [
  {
   "cell_type": "code",
   "execution_count": 1,
   "id": "67108211",
   "metadata": {},
   "outputs": [
    {
     "data": {
      "text/html": [
       "        <script type=\"text/javascript\">\n",
       "        window.PlotlyConfig = {MathJaxConfig: 'local'};\n",
       "        if (window.MathJax && window.MathJax.Hub && window.MathJax.Hub.Config) {window.MathJax.Hub.Config({SVG: {font: \"STIX-Web\"}});}\n",
       "        if (typeof require !== 'undefined') {\n",
       "        require.undef(\"plotly\");\n",
       "        requirejs.config({\n",
       "            paths: {\n",
       "                'plotly': ['https://cdn.plot.ly/plotly-2.12.1.min']\n",
       "            }\n",
       "        });\n",
       "        require(['plotly'], function(Plotly) {\n",
       "            window._Plotly = Plotly;\n",
       "        });\n",
       "        }\n",
       "        </script>\n",
       "        "
      ]
     },
     "metadata": {},
     "output_type": "display_data"
    }
   ],
   "source": [
    "from collections import OrderedDict\n",
    "import numpy as np\n",
    "import cv2\n",
    "import argparse\n",
    "import dlib\n",
    "import imutils\n",
    "import matplotlib.pyplot as plt\n",
    "%matplotlib inline\n",
    "import math\n",
    "import pandas as pd\n",
    "import os\n",
    "import plotly.offline as py\n",
    "py.init_notebook_mode(connected=True)\n",
    "import plotly.graph_objs as go\n",
    "import plotly.tools as tls\n",
    "from sklearn.model_selection import train_test_split\n",
    "from sklearn.ensemble import RandomForestClassifier\n",
    "from sklearn.metrics import accuracy_score\n",
    "\n",
    "face_cascade = cv2.CascadeClassifier('haarcascade_frontface.xml')\n",
    "predictor = dlib.shape_predictor('shape_predictor_68_face_landmarks.dat')"
   ]
  },
  {
   "cell_type": "code",
   "execution_count": 2,
   "id": "9601a424",
   "metadata": {},
   "outputs": [],
   "source": [
    "#facial keypoint 추출\n",
    "#출처: https://github.com/HooSeungNa/pytorch/tree/master/emotion_recognition/face_detector\n",
    "\n",
    "facial_features_cordinates = {}\n",
    "\n",
    "FACIAL_LANDMARKS_INDEXES = OrderedDict([\n",
    "    (\"Mouth\", (49, 68)),\n",
    "    (\"Right_Eyebrow\", (17, 21)),\n",
    "    (\"Left_Eyebrow\", (22, 26)),\n",
    "    (\"Right_Eye\", (36, 41)),\n",
    "    (\"Left_Eye\", (42, 47)),\n",
    "    (\"Nose\", (27, 35)),\n",
    "    (\"Jaw\", (0, 16))\n",
    "])\n",
    "\n",
    "def shape_to_numpy_array(shape, dtype=\"int\"): \n",
    "\n",
    "    coordinates = np.zeros((68, 2), dtype=dtype)\n",
    "\n",
    "    for i in range(0, 68):\n",
    "        coordinates[i] = (shape.part(i).x, shape.part(i).y)\n",
    "\n",
    "    return coordinates\n",
    "\n",
    "#landmark 이어주기\n",
    "def visualize_facial_landmarks_contour(image, shape, colors=None, alpha=0.75):\n",
    "    \n",
    "    overlay = image.copy()\n",
    "    output = image.copy()\n",
    "\n",
    "    \n",
    "    if colors is None:\n",
    "        colors = [(19, 199, 109), (79, 76, 240), (230, 159, 23),\n",
    "                  (168, 100, 168), (158, 163, 32),\n",
    "                  (163, 38, 32), (180, 42, 220)]\n",
    "\n",
    "    for (i, name) in enumerate(FACIAL_LANDMARKS_INDEXES.keys()):\n",
    "        print(i,name)\n",
    "\n",
    "\n",
    "        (j, k) = FACIAL_LANDMARKS_INDEXES[name]\n",
    "        pts = shape[j:k]\n",
    "        facial_features_cordinates[name] = pts\n",
    "\n",
    "        if name == \"Jaw\":        \n",
    "\n",
    "            for l in range(1, len(pts)):\n",
    "                ptA = tuple(pts[l - 1])\n",
    "                ptB = tuple(pts[l])\n",
    "                cv2.line(overlay, ptA, ptB, colors[i], 2)\n",
    "\n",
    "        else:\n",
    "            hull = cv2.convexHull(pts)\n",
    "            cv2.drawContours(overlay, [hull], -1, colors[i], -1)\n",
    "\n",
    "    cv2.addWeighted(overlay, alpha, output, 1 - alpha, 0, output)\n",
    "\n",
    "    return output\n",
    "\n",
    "def visualize_facial_landmarks_circle(image, shape, colors=None, alpha=0.75):\n",
    "    \n",
    "    for i in range(len(shape)):\n",
    "        po=shape[i]\n",
    "        center=(int(po[0]),int(po[1]))\n",
    "        cv2.circle(image,center,2,(0,255,0),thickness=3)\n",
    "        plt.imshow(image)\n",
    "\n",
    "    return image"
   ]
  },
  {
   "cell_type": "code",
   "execution_count": 3,
   "id": "f1ebf66a",
   "metadata": {},
   "outputs": [],
   "source": [
    "######################### 1. Face Variance Extraction Using Random Forest #########################"
   ]
  },
  {
   "cell_type": "code",
   "execution_count": 4,
   "id": "166e0be4",
   "metadata": {},
   "outputs": [],
   "source": [
    "#변수 설정을 위한 함수\n",
    "def angle_between(p1, p2):\n",
    "        ang1 = np.arctan2(*p1[::-1])\n",
    "        ang2 = np.arctan2(*p2[::-1])\n",
    "        res = np.rad2deg((ang1 - ang2) % (2 * np.pi))\n",
    "        return res\n",
    "\n",
    "def getAngle3(p1, p2, p3):\n",
    "        pt1 = (p1[0] - p2[0], p1[1] - p2[1])\n",
    "        pt2 = (p3[0] - p2[0], p3[1] - p2[1])\n",
    "        res = angle_between(pt1, pt2)\n",
    "        res = (res + 360) % 360\n",
    "        if res>180:\n",
    "            res = (360 - res) % 360\n",
    "        return res\n",
    "    \n",
    "def getAngle4(p1, p2, p3, p4):\n",
    "        pt1 = (p1[0] - p2[0], p1[1] - p2[1])            \n",
    "        pt2 = (p3[0] - p4[0], p3[1] - p4[1])        \n",
    "        res = angle_between(pt1, pt2)\n",
    "        res = (res + 360) % 360\n",
    "        if res>180:\n",
    "            res = (360 - res) % 360\n",
    "        return res\n",
    "    \n",
    "def dist(a, b):\n",
    "    A = np.array(shape[a])\n",
    "    B = np.array(shape[b])\n",
    "    len = np.linalg.norm(A-B)\n",
    "    return len"
   ]
  },
  {
   "cell_type": "code",
   "execution_count": 5,
   "id": "d79ca268",
   "metadata": {},
   "outputs": [],
   "source": [
    "#얼굴 변수 설정\n",
    "def var(a):\n",
    "    global count2, array\n",
    "    \n",
    "    x = np.array(shape[8])\n",
    "    mid = (int(shape[0][0] + shape[16][0])/2, int(shape[0][1] + shape[16][1])/2)\n",
    "\n",
    "    array[a+1][0]= getAngle3(shape[0], shape[8], shape[16])\n",
    "    array[a+1][1]= getAngle3(shape[7], shape[8], shape[9])\n",
    "    array[a+1][2]= dist(7, 9) / dist(0, 16)\n",
    "    array[a+1][3]= dist(6, 10) / dist(0, 16)\n",
    "    array[a+1][4]= dist(0, 16) / np.linalg.norm(x-mid)\n",
    "    array[a+1][5]= getAngle3(shape[0], shape[4], shape[8])\n",
    "    array[a+1][6]= getAngle3(shape[8], shape[12], shape[16])\n",
    "    array[a+1][7]= getAngle3(shape[39], shape[8], shape[42])\n",
    "    array[a+1][8]= dist(36, 39) / dist(37, 40)\n",
    "    array[a+1][9]= dist(36, 39) / dist(38, 41)\n",
    "    array[a+1][10]= dist(36, 39) / dist(0, 16)\n",
    "    array[a+1][11]= dist(36, 39) / np.linalg.norm(x-mid)\n",
    "    array[a+1][12]= getAngle4(shape[0], shape[16], shape[36], shape[39])\n",
    "    array[a+1][13]= getAngle4(shape[36], shape[37], shape[38], shape[39])\n",
    "    array[a+1][14]= getAngle4(shape[36], shape[41], shape[40], shape[39])\n",
    "    array[a+1][15]= dist(42, 45) / dist(43, 46)\n",
    "    array[a+1][16]= dist(42, 45) / dist(44, 47)\n",
    "    array[a+1][17]= dist(42, 45) / dist(0, 16)\n",
    "    array[a+1][18]= dist(42, 45) / np.linalg.norm(x-mid)\n",
    "    array[a+1][19]= getAngle4(shape[0], shape[16], shape[42], shape[45])\n",
    "    array[a+1][20]= getAngle4(shape[42], shape[43], shape[44], shape[45])\n",
    "    array[a+1][21]= getAngle4(shape[42], shape[47], shape[46], shape[45])\n",
    "    array[a+1][22]= dist(36, 39) / dist(39, 42)\n",
    "    array[a+1][23]= dist(39, 42) / dist(0, 16)\n",
    "    array[a+1][24]= getAngle3(shape[31], shape[33], shape[35])\n",
    "    array[a+1][25]= dist(27, 33) / dist(31, 35)\n",
    "    array[a+1][26]= dist(27, 33) / dist(0, 16)\n",
    "    array[a+1][27]= dist(27, 30) / dist(0, 16)\n",
    "    array[a+1][28]= dist(27, 33) / np.linalg.norm(x-mid)\n",
    "    array[a+1][29]= dist(27, 30) / np.linalg.norm(x-mid)\n",
    "    array[a+1][30]= getAngle3(shape[31], shape[27], shape[35])\n",
    "    array[a+1][31]= dist(31, 35) / dist(0, 16)\n",
    "    array[a+1][32]= count2\n",
    "\n",
    "    return array"
   ]
  },
  {
   "cell_type": "code",
   "execution_count": 6,
   "id": "b28a3a1a",
   "metadata": {},
   "outputs": [],
   "source": [
    "#Face Data 변수값 csv 파일로 저장\n",
    "i=0\n",
    "array = [[0 for col in range(33)] for row in range(501)]\n",
    "count2 = 0\n",
    "\n",
    "for j in range(500):\n",
    "    \n",
    "    count = i % 20\n",
    "    if i % 20 == 0 and i!= 0:\n",
    "        count2 += 1\n",
    "    name = str(i)+'.jpg'\n",
    "    os.chdir('C:/Users/user/Machine_Learning/Face_Data')\n",
    "    image = cv2.imread(name)\n",
    "    image = imutils.resize(image, width=500)\n",
    "    image = cv2.cvtColor(image, cv2.COLOR_BGR2RGB)\n",
    "    gray = cv2.cvtColor(image, cv2.COLOR_RGB2GRAY)\n",
    "\n",
    "    faces = face_cascade.detectMultiScale(gray, 1.3, 5)\n",
    "\n",
    "    for (x,y,w,h) in faces:\n",
    "        cv2.rectangle(image,(x,y),(x+w,y+h),(255,0,0),2)\n",
    "\n",
    "    rect=dlib.rectangle(int(x), int(y), int(x + w), int(y + h))\n",
    "\n",
    "    shape = predictor(gray, rect)\n",
    "    shape = shape_to_numpy_array(shape)\n",
    "    \n",
    "    var(i)\n",
    "    \n",
    "    i += 1\n",
    "    \n",
    "for i in range(32):\n",
    "    array[0][i]= i\n",
    "    \n",
    "array[0][32] = 100\n",
    "\n",
    "os.chdir('C:/Users/user/Machine_Learning/Face_Data')\n",
    "dataframe = pd.DataFrame(array)\n",
    "dataframe.to_csv('Face_Var.csv', header=False, index=False)"
   ]
  },
  {
   "cell_type": "code",
   "execution_count": 7,
   "id": "7d48c52f",
   "metadata": {},
   "outputs": [],
   "source": [
    "#Change Index Name on the CSV File"
   ]
  },
  {
   "cell_type": "code",
   "execution_count": 8,
   "id": "5e5e3045",
   "metadata": {},
   "outputs": [
    {
     "data": {
      "text/html": [
       "<div>\n",
       "<style scoped>\n",
       "    .dataframe tbody tr th:only-of-type {\n",
       "        vertical-align: middle;\n",
       "    }\n",
       "\n",
       "    .dataframe tbody tr th {\n",
       "        vertical-align: top;\n",
       "    }\n",
       "\n",
       "    .dataframe thead th {\n",
       "        text-align: right;\n",
       "    }\n",
       "</style>\n",
       "<table border=\"1\" class=\"dataframe\">\n",
       "  <thead>\n",
       "    <tr style=\"text-align: right;\">\n",
       "      <th></th>\n",
       "      <th>VAR0</th>\n",
       "      <th>VAR1</th>\n",
       "      <th>VAR2</th>\n",
       "      <th>VAR3</th>\n",
       "      <th>VAR4</th>\n",
       "      <th>VAR5</th>\n",
       "      <th>VAR6</th>\n",
       "      <th>VAR7</th>\n",
       "      <th>VAR8</th>\n",
       "      <th>VAR9</th>\n",
       "      <th>...</th>\n",
       "      <th>VAR23</th>\n",
       "      <th>VAR24</th>\n",
       "      <th>VAR25</th>\n",
       "      <th>VAR26</th>\n",
       "      <th>VAR27</th>\n",
       "      <th>VAR28</th>\n",
       "      <th>VAR29</th>\n",
       "      <th>VAR30</th>\n",
       "      <th>VAR31</th>\n",
       "      <th>TARGET</th>\n",
       "    </tr>\n",
       "  </thead>\n",
       "  <tbody>\n",
       "    <tr>\n",
       "      <th>0</th>\n",
       "      <td>60.834060</td>\n",
       "      <td>155.132105</td>\n",
       "      <td>0.242808</td>\n",
       "      <td>0.457056</td>\n",
       "      <td>1.174371</td>\n",
       "      <td>143.126789</td>\n",
       "      <td>139.471480</td>\n",
       "      <td>17.630382</td>\n",
       "      <td>2.176627</td>\n",
       "      <td>1.942945</td>\n",
       "      <td>...</td>\n",
       "      <td>0.267797</td>\n",
       "      <td>144.323592</td>\n",
       "      <td>1.881391</td>\n",
       "      <td>0.396369</td>\n",
       "      <td>0.278507</td>\n",
       "      <td>0.465484</td>\n",
       "      <td>0.327071</td>\n",
       "      <td>32.406331</td>\n",
       "      <td>0.210679</td>\n",
       "      <td>0</td>\n",
       "    </tr>\n",
       "    <tr>\n",
       "      <th>1</th>\n",
       "      <td>60.834060</td>\n",
       "      <td>155.132105</td>\n",
       "      <td>0.242808</td>\n",
       "      <td>0.457056</td>\n",
       "      <td>1.174371</td>\n",
       "      <td>143.126789</td>\n",
       "      <td>139.471480</td>\n",
       "      <td>17.630382</td>\n",
       "      <td>2.176627</td>\n",
       "      <td>1.942945</td>\n",
       "      <td>...</td>\n",
       "      <td>0.267797</td>\n",
       "      <td>144.323592</td>\n",
       "      <td>1.881391</td>\n",
       "      <td>0.396369</td>\n",
       "      <td>0.278507</td>\n",
       "      <td>0.465484</td>\n",
       "      <td>0.327071</td>\n",
       "      <td>32.406331</td>\n",
       "      <td>0.210679</td>\n",
       "      <td>0</td>\n",
       "    </tr>\n",
       "    <tr>\n",
       "      <th>2</th>\n",
       "      <td>62.952045</td>\n",
       "      <td>159.554545</td>\n",
       "      <td>0.253389</td>\n",
       "      <td>0.468139</td>\n",
       "      <td>1.224885</td>\n",
       "      <td>141.287047</td>\n",
       "      <td>138.344542</td>\n",
       "      <td>17.432984</td>\n",
       "      <td>2.080311</td>\n",
       "      <td>1.971131</td>\n",
       "      <td>...</td>\n",
       "      <td>0.256979</td>\n",
       "      <td>149.730321</td>\n",
       "      <td>1.829536</td>\n",
       "      <td>0.380062</td>\n",
       "      <td>0.260402</td>\n",
       "      <td>0.465533</td>\n",
       "      <td>0.318963</td>\n",
       "      <td>32.881821</td>\n",
       "      <td>0.207737</td>\n",
       "      <td>0</td>\n",
       "    </tr>\n",
       "    <tr>\n",
       "      <th>3</th>\n",
       "      <td>62.952045</td>\n",
       "      <td>159.554545</td>\n",
       "      <td>0.253389</td>\n",
       "      <td>0.468139</td>\n",
       "      <td>1.224885</td>\n",
       "      <td>141.287047</td>\n",
       "      <td>138.344542</td>\n",
       "      <td>17.432984</td>\n",
       "      <td>2.080311</td>\n",
       "      <td>1.971131</td>\n",
       "      <td>...</td>\n",
       "      <td>0.256979</td>\n",
       "      <td>149.730321</td>\n",
       "      <td>1.829536</td>\n",
       "      <td>0.380062</td>\n",
       "      <td>0.260402</td>\n",
       "      <td>0.465533</td>\n",
       "      <td>0.318963</td>\n",
       "      <td>32.881821</td>\n",
       "      <td>0.207737</td>\n",
       "      <td>0</td>\n",
       "    </tr>\n",
       "    <tr>\n",
       "      <th>4</th>\n",
       "      <td>65.553289</td>\n",
       "      <td>165.646741</td>\n",
       "      <td>0.266890</td>\n",
       "      <td>0.494151</td>\n",
       "      <td>1.288243</td>\n",
       "      <td>132.375375</td>\n",
       "      <td>132.413771</td>\n",
       "      <td>17.667165</td>\n",
       "      <td>2.112829</td>\n",
       "      <td>1.976509</td>\n",
       "      <td>...</td>\n",
       "      <td>0.257376</td>\n",
       "      <td>151.137277</td>\n",
       "      <td>1.858022</td>\n",
       "      <td>0.393820</td>\n",
       "      <td>0.260686</td>\n",
       "      <td>0.507336</td>\n",
       "      <td>0.335826</td>\n",
       "      <td>32.248339</td>\n",
       "      <td>0.211957</td>\n",
       "      <td>0</td>\n",
       "    </tr>\n",
       "  </tbody>\n",
       "</table>\n",
       "<p>5 rows × 33 columns</p>\n",
       "</div>"
      ],
      "text/plain": [
       "        VAR0        VAR1      VAR2      VAR3      VAR4        VAR5  \\\n",
       "0  60.834060  155.132105  0.242808  0.457056  1.174371  143.126789   \n",
       "1  60.834060  155.132105  0.242808  0.457056  1.174371  143.126789   \n",
       "2  62.952045  159.554545  0.253389  0.468139  1.224885  141.287047   \n",
       "3  62.952045  159.554545  0.253389  0.468139  1.224885  141.287047   \n",
       "4  65.553289  165.646741  0.266890  0.494151  1.288243  132.375375   \n",
       "\n",
       "         VAR6       VAR7      VAR8      VAR9  ...     VAR23       VAR24  \\\n",
       "0  139.471480  17.630382  2.176627  1.942945  ...  0.267797  144.323592   \n",
       "1  139.471480  17.630382  2.176627  1.942945  ...  0.267797  144.323592   \n",
       "2  138.344542  17.432984  2.080311  1.971131  ...  0.256979  149.730321   \n",
       "3  138.344542  17.432984  2.080311  1.971131  ...  0.256979  149.730321   \n",
       "4  132.413771  17.667165  2.112829  1.976509  ...  0.257376  151.137277   \n",
       "\n",
       "      VAR25     VAR26     VAR27     VAR28     VAR29      VAR30     VAR31  \\\n",
       "0  1.881391  0.396369  0.278507  0.465484  0.327071  32.406331  0.210679   \n",
       "1  1.881391  0.396369  0.278507  0.465484  0.327071  32.406331  0.210679   \n",
       "2  1.829536  0.380062  0.260402  0.465533  0.318963  32.881821  0.207737   \n",
       "3  1.829536  0.380062  0.260402  0.465533  0.318963  32.881821  0.207737   \n",
       "4  1.858022  0.393820  0.260686  0.507336  0.335826  32.248339  0.211957   \n",
       "\n",
       "   TARGET  \n",
       "0       0  \n",
       "1       0  \n",
       "2       0  \n",
       "3       0  \n",
       "4       0  \n",
       "\n",
       "[5 rows x 33 columns]"
      ]
     },
     "execution_count": 8,
     "metadata": {},
     "output_type": "execute_result"
    }
   ],
   "source": [
    "os.chdir('C:/Users/user/Machine_Learning/Face_Data')\n",
    "data = pd.read_csv('Face_Var.csv')\n",
    "data.head()"
   ]
  },
  {
   "cell_type": "code",
   "execution_count": 9,
   "id": "a0d7190b",
   "metadata": {},
   "outputs": [
    {
     "name": "stdout",
     "output_type": "stream",
     "text": [
      "nCar: 500 nVar: 33\n"
     ]
    }
   ],
   "source": [
    "#check the size\n",
    "nCar = data.shape[0]\n",
    "nVar = data.shape[1]\n",
    "print('nCar: %d' % nCar, 'nVar: %d' % nVar )"
   ]
  },
  {
   "cell_type": "code",
   "execution_count": 10,
   "id": "60f1bf71",
   "metadata": {},
   "outputs": [
    {
     "name": "stdout",
     "output_type": "stream",
     "text": [
      "(400, 32) (100, 32) (400,) (100,)\n"
     ]
    }
   ],
   "source": [
    "after_mapping_target = data['TARGET']\n",
    "\n",
    "feature_columns = list(data.columns.difference(['TARGET']))\n",
    "X = data[feature_columns]\n",
    "y = after_mapping_target\n",
    "\n",
    "#train, test data 비율을 8:2 로 분할\n",
    "train_x, test_x, train_y, test_y = train_test_split(X, y, test_size = 0.2, random_state = 42) \n",
    "#데이터 개수 확인\n",
    "print(train_x.shape, test_x.shape, train_y.shape, test_y.shape) "
   ]
  },
  {
   "cell_type": "code",
   "execution_count": 11,
   "id": "5b6d17fb",
   "metadata": {},
   "outputs": [
    {
     "data": {
      "text/plain": [
       "RandomForestClassifier(max_depth=20, n_estimators=500, random_state=0)"
      ]
     },
     "execution_count": 11,
     "metadata": {},
     "output_type": "execute_result"
    }
   ],
   "source": [
    "from sklearn.ensemble import RandomForestClassifier\n",
    "from sklearn.metrics import accuracy_score\n",
    "\n",
    "clf = RandomForestClassifier(n_estimators=500, max_depth=20,random_state=0)\n",
    "clf.fit(train_x,train_y)"
   ]
  },
  {
   "cell_type": "code",
   "execution_count": 12,
   "id": "7b8d35ce",
   "metadata": {},
   "outputs": [
    {
     "name": "stdout",
     "output_type": "stream",
     "text": [
      "0.99\n"
     ]
    }
   ],
   "source": [
    "#정확도 계산\n",
    "predict1 = clf.predict(test_x)\n",
    "print(accuracy_score(test_y, predict1))"
   ]
  },
  {
   "cell_type": "code",
   "execution_count": 13,
   "id": "589bbd88",
   "metadata": {},
   "outputs": [
    {
     "name": "stdout",
     "output_type": "stream",
     "text": [
      "[0.04423093 0.01250363 0.02653452 0.03076703 0.02389404 0.01622736\n",
      " 0.01923674 0.01081588 0.01724493 0.02580978 0.02478877 0.03778105\n",
      " 0.027828   0.01444879 0.02586483 0.03200951 0.05500428 0.03843678\n",
      " 0.05241626 0.04389458 0.03904031 0.02861204 0.03124786 0.03799509\n",
      " 0.05148176 0.05290051 0.04978909 0.02370698 0.02421307 0.05001582\n",
      " 0.01448605 0.01677371]\n"
     ]
    }
   ],
   "source": [
    "#변수 중요도 출력\n",
    "print(clf.feature_importances_)"
   ]
  },
  {
   "cell_type": "code",
   "execution_count": 14,
   "id": "ed11cb22",
   "metadata": {},
   "outputs": [
    {
     "data": {
      "text/html": [
       "<div>\n",
       "<style scoped>\n",
       "    .dataframe tbody tr th:only-of-type {\n",
       "        vertical-align: middle;\n",
       "    }\n",
       "\n",
       "    .dataframe tbody tr th {\n",
       "        vertical-align: top;\n",
       "    }\n",
       "\n",
       "    .dataframe thead th {\n",
       "        text-align: right;\n",
       "    }\n",
       "</style>\n",
       "<table border=\"1\" class=\"dataframe\">\n",
       "  <thead>\n",
       "    <tr style=\"text-align: right;\">\n",
       "      <th></th>\n",
       "      <th>feature</th>\n",
       "      <th>importance</th>\n",
       "    </tr>\n",
       "  </thead>\n",
       "  <tbody>\n",
       "    <tr>\n",
       "      <th>0</th>\n",
       "      <td>VAR0</td>\n",
       "      <td>0.044231</td>\n",
       "    </tr>\n",
       "    <tr>\n",
       "      <th>1</th>\n",
       "      <td>VAR1</td>\n",
       "      <td>0.012504</td>\n",
       "    </tr>\n",
       "    <tr>\n",
       "      <th>2</th>\n",
       "      <td>VAR10</td>\n",
       "      <td>0.026535</td>\n",
       "    </tr>\n",
       "    <tr>\n",
       "      <th>3</th>\n",
       "      <td>VAR11</td>\n",
       "      <td>0.030767</td>\n",
       "    </tr>\n",
       "    <tr>\n",
       "      <th>4</th>\n",
       "      <td>VAR12</td>\n",
       "      <td>0.023894</td>\n",
       "    </tr>\n",
       "    <tr>\n",
       "      <th>5</th>\n",
       "      <td>VAR13</td>\n",
       "      <td>0.016227</td>\n",
       "    </tr>\n",
       "    <tr>\n",
       "      <th>6</th>\n",
       "      <td>VAR14</td>\n",
       "      <td>0.019237</td>\n",
       "    </tr>\n",
       "    <tr>\n",
       "      <th>7</th>\n",
       "      <td>VAR15</td>\n",
       "      <td>0.010816</td>\n",
       "    </tr>\n",
       "    <tr>\n",
       "      <th>8</th>\n",
       "      <td>VAR16</td>\n",
       "      <td>0.017245</td>\n",
       "    </tr>\n",
       "    <tr>\n",
       "      <th>9</th>\n",
       "      <td>VAR17</td>\n",
       "      <td>0.025810</td>\n",
       "    </tr>\n",
       "    <tr>\n",
       "      <th>10</th>\n",
       "      <td>VAR18</td>\n",
       "      <td>0.024789</td>\n",
       "    </tr>\n",
       "    <tr>\n",
       "      <th>11</th>\n",
       "      <td>VAR19</td>\n",
       "      <td>0.037781</td>\n",
       "    </tr>\n",
       "    <tr>\n",
       "      <th>12</th>\n",
       "      <td>VAR2</td>\n",
       "      <td>0.027828</td>\n",
       "    </tr>\n",
       "    <tr>\n",
       "      <th>13</th>\n",
       "      <td>VAR20</td>\n",
       "      <td>0.014449</td>\n",
       "    </tr>\n",
       "    <tr>\n",
       "      <th>14</th>\n",
       "      <td>VAR21</td>\n",
       "      <td>0.025865</td>\n",
       "    </tr>\n",
       "    <tr>\n",
       "      <th>15</th>\n",
       "      <td>VAR22</td>\n",
       "      <td>0.032010</td>\n",
       "    </tr>\n",
       "    <tr>\n",
       "      <th>16</th>\n",
       "      <td>VAR23</td>\n",
       "      <td>0.055004</td>\n",
       "    </tr>\n",
       "    <tr>\n",
       "      <th>17</th>\n",
       "      <td>VAR24</td>\n",
       "      <td>0.038437</td>\n",
       "    </tr>\n",
       "    <tr>\n",
       "      <th>18</th>\n",
       "      <td>VAR25</td>\n",
       "      <td>0.052416</td>\n",
       "    </tr>\n",
       "    <tr>\n",
       "      <th>19</th>\n",
       "      <td>VAR26</td>\n",
       "      <td>0.043895</td>\n",
       "    </tr>\n",
       "    <tr>\n",
       "      <th>20</th>\n",
       "      <td>VAR27</td>\n",
       "      <td>0.039040</td>\n",
       "    </tr>\n",
       "    <tr>\n",
       "      <th>21</th>\n",
       "      <td>VAR28</td>\n",
       "      <td>0.028612</td>\n",
       "    </tr>\n",
       "    <tr>\n",
       "      <th>22</th>\n",
       "      <td>VAR29</td>\n",
       "      <td>0.031248</td>\n",
       "    </tr>\n",
       "    <tr>\n",
       "      <th>23</th>\n",
       "      <td>VAR3</td>\n",
       "      <td>0.037995</td>\n",
       "    </tr>\n",
       "    <tr>\n",
       "      <th>24</th>\n",
       "      <td>VAR30</td>\n",
       "      <td>0.051482</td>\n",
       "    </tr>\n",
       "    <tr>\n",
       "      <th>25</th>\n",
       "      <td>VAR31</td>\n",
       "      <td>0.052901</td>\n",
       "    </tr>\n",
       "    <tr>\n",
       "      <th>26</th>\n",
       "      <td>VAR4</td>\n",
       "      <td>0.049789</td>\n",
       "    </tr>\n",
       "    <tr>\n",
       "      <th>27</th>\n",
       "      <td>VAR5</td>\n",
       "      <td>0.023707</td>\n",
       "    </tr>\n",
       "    <tr>\n",
       "      <th>28</th>\n",
       "      <td>VAR6</td>\n",
       "      <td>0.024213</td>\n",
       "    </tr>\n",
       "    <tr>\n",
       "      <th>29</th>\n",
       "      <td>VAR7</td>\n",
       "      <td>0.050016</td>\n",
       "    </tr>\n",
       "    <tr>\n",
       "      <th>30</th>\n",
       "      <td>VAR8</td>\n",
       "      <td>0.014486</td>\n",
       "    </tr>\n",
       "    <tr>\n",
       "      <th>31</th>\n",
       "      <td>VAR9</td>\n",
       "      <td>0.016774</td>\n",
       "    </tr>\n",
       "  </tbody>\n",
       "</table>\n",
       "</div>"
      ],
      "text/plain": [
       "   feature  importance\n",
       "0     VAR0    0.044231\n",
       "1     VAR1    0.012504\n",
       "2    VAR10    0.026535\n",
       "3    VAR11    0.030767\n",
       "4    VAR12    0.023894\n",
       "5    VAR13    0.016227\n",
       "6    VAR14    0.019237\n",
       "7    VAR15    0.010816\n",
       "8    VAR16    0.017245\n",
       "9    VAR17    0.025810\n",
       "10   VAR18    0.024789\n",
       "11   VAR19    0.037781\n",
       "12    VAR2    0.027828\n",
       "13   VAR20    0.014449\n",
       "14   VAR21    0.025865\n",
       "15   VAR22    0.032010\n",
       "16   VAR23    0.055004\n",
       "17   VAR24    0.038437\n",
       "18   VAR25    0.052416\n",
       "19   VAR26    0.043895\n",
       "20   VAR27    0.039040\n",
       "21   VAR28    0.028612\n",
       "22   VAR29    0.031248\n",
       "23    VAR3    0.037995\n",
       "24   VAR30    0.051482\n",
       "25   VAR31    0.052901\n",
       "26    VAR4    0.049789\n",
       "27    VAR5    0.023707\n",
       "28    VAR6    0.024213\n",
       "29    VAR7    0.050016\n",
       "30    VAR8    0.014486\n",
       "31    VAR9    0.016774"
      ]
     },
     "execution_count": 14,
     "metadata": {},
     "output_type": "execute_result"
    }
   ],
   "source": [
    "feature_importance = pd.DataFrame({\n",
    "    'feature': X.columns,\n",
    "    'importance': clf.feature_importances_\n",
    "})\n",
    "\n",
    "feature_importance"
   ]
  },
  {
   "cell_type": "code",
   "execution_count": 15,
   "id": "64e681f3",
   "metadata": {},
   "outputs": [],
   "source": [
    "feature_importance.sort_values('importance', inplace=True)\n",
    "feature_importance.reset_index(drop=True, inplace=True)"
   ]
  },
  {
   "cell_type": "code",
   "execution_count": 16,
   "id": "c3d06e96",
   "metadata": {
    "scrolled": true
   },
   "outputs": [
    {
     "data": {
      "application/vnd.plotly.v1+json": {
       "config": {
        "plotlyServerURL": "https://plot.ly"
       },
       "data": [
        {
         "alignmentgroup": "True",
         "hovertemplate": "feature=%{x}<br>importance=%{y}<extra></extra>",
         "legendgroup": "",
         "marker": {
          "color": "#636efa",
          "pattern": {
           "shape": ""
          }
         },
         "name": "",
         "offsetgroup": "",
         "orientation": "v",
         "showlegend": false,
         "textposition": "auto",
         "type": "bar",
         "x": [
          "VAR15",
          "VAR1",
          "VAR20",
          "VAR8",
          "VAR13",
          "VAR9",
          "VAR16",
          "VAR14",
          "VAR5",
          "VAR12",
          "VAR6",
          "VAR18",
          "VAR17",
          "VAR21",
          "VAR10",
          "VAR2",
          "VAR28",
          "VAR11",
          "VAR29",
          "VAR22",
          "VAR19",
          "VAR3",
          "VAR24",
          "VAR27",
          "VAR26",
          "VAR0",
          "VAR4",
          "VAR7",
          "VAR30",
          "VAR25",
          "VAR31",
          "VAR23"
         ],
         "xaxis": "x",
         "y": [
          0.010815875649491071,
          0.012503631531830036,
          0.014448792709216686,
          0.014486050343006582,
          0.01622735973133195,
          0.016773714835137035,
          0.017244928657691255,
          0.01923674196020086,
          0.02370698138473875,
          0.02389403615624946,
          0.024213069650792333,
          0.024788773855329054,
          0.025809775521326052,
          0.02586483153558407,
          0.026534521080816265,
          0.027828003333274832,
          0.028612038959207508,
          0.03076703023580551,
          0.03124785997647448,
          0.03200950828024492,
          0.03778104998224372,
          0.03799508754627636,
          0.03843678174690657,
          0.03904031364504256,
          0.043894580700035185,
          0.04423093304545074,
          0.049789090240851396,
          0.05001581965973502,
          0.05148176306106744,
          0.052416264628896106,
          0.052900508696747346,
          0.055004281658998906
         ],
         "yaxis": "y"
        }
       ],
       "layout": {
        "barmode": "relative",
        "legend": {
         "tracegroupgap": 0
        },
        "margin": {
         "t": 60
        },
        "template": {
         "data": {
          "bar": [
           {
            "error_x": {
             "color": "#2a3f5f"
            },
            "error_y": {
             "color": "#2a3f5f"
            },
            "marker": {
             "line": {
              "color": "#E5ECF6",
              "width": 0.5
             },
             "pattern": {
              "fillmode": "overlay",
              "size": 10,
              "solidity": 0.2
             }
            },
            "type": "bar"
           }
          ],
          "barpolar": [
           {
            "marker": {
             "line": {
              "color": "#E5ECF6",
              "width": 0.5
             },
             "pattern": {
              "fillmode": "overlay",
              "size": 10,
              "solidity": 0.2
             }
            },
            "type": "barpolar"
           }
          ],
          "carpet": [
           {
            "aaxis": {
             "endlinecolor": "#2a3f5f",
             "gridcolor": "white",
             "linecolor": "white",
             "minorgridcolor": "white",
             "startlinecolor": "#2a3f5f"
            },
            "baxis": {
             "endlinecolor": "#2a3f5f",
             "gridcolor": "white",
             "linecolor": "white",
             "minorgridcolor": "white",
             "startlinecolor": "#2a3f5f"
            },
            "type": "carpet"
           }
          ],
          "choropleth": [
           {
            "colorbar": {
             "outlinewidth": 0,
             "ticks": ""
            },
            "type": "choropleth"
           }
          ],
          "contour": [
           {
            "colorbar": {
             "outlinewidth": 0,
             "ticks": ""
            },
            "colorscale": [
             [
              0,
              "#0d0887"
             ],
             [
              0.1111111111111111,
              "#46039f"
             ],
             [
              0.2222222222222222,
              "#7201a8"
             ],
             [
              0.3333333333333333,
              "#9c179e"
             ],
             [
              0.4444444444444444,
              "#bd3786"
             ],
             [
              0.5555555555555556,
              "#d8576b"
             ],
             [
              0.6666666666666666,
              "#ed7953"
             ],
             [
              0.7777777777777778,
              "#fb9f3a"
             ],
             [
              0.8888888888888888,
              "#fdca26"
             ],
             [
              1,
              "#f0f921"
             ]
            ],
            "type": "contour"
           }
          ],
          "contourcarpet": [
           {
            "colorbar": {
             "outlinewidth": 0,
             "ticks": ""
            },
            "type": "contourcarpet"
           }
          ],
          "heatmap": [
           {
            "colorbar": {
             "outlinewidth": 0,
             "ticks": ""
            },
            "colorscale": [
             [
              0,
              "#0d0887"
             ],
             [
              0.1111111111111111,
              "#46039f"
             ],
             [
              0.2222222222222222,
              "#7201a8"
             ],
             [
              0.3333333333333333,
              "#9c179e"
             ],
             [
              0.4444444444444444,
              "#bd3786"
             ],
             [
              0.5555555555555556,
              "#d8576b"
             ],
             [
              0.6666666666666666,
              "#ed7953"
             ],
             [
              0.7777777777777778,
              "#fb9f3a"
             ],
             [
              0.8888888888888888,
              "#fdca26"
             ],
             [
              1,
              "#f0f921"
             ]
            ],
            "type": "heatmap"
           }
          ],
          "heatmapgl": [
           {
            "colorbar": {
             "outlinewidth": 0,
             "ticks": ""
            },
            "colorscale": [
             [
              0,
              "#0d0887"
             ],
             [
              0.1111111111111111,
              "#46039f"
             ],
             [
              0.2222222222222222,
              "#7201a8"
             ],
             [
              0.3333333333333333,
              "#9c179e"
             ],
             [
              0.4444444444444444,
              "#bd3786"
             ],
             [
              0.5555555555555556,
              "#d8576b"
             ],
             [
              0.6666666666666666,
              "#ed7953"
             ],
             [
              0.7777777777777778,
              "#fb9f3a"
             ],
             [
              0.8888888888888888,
              "#fdca26"
             ],
             [
              1,
              "#f0f921"
             ]
            ],
            "type": "heatmapgl"
           }
          ],
          "histogram": [
           {
            "marker": {
             "pattern": {
              "fillmode": "overlay",
              "size": 10,
              "solidity": 0.2
             }
            },
            "type": "histogram"
           }
          ],
          "histogram2d": [
           {
            "colorbar": {
             "outlinewidth": 0,
             "ticks": ""
            },
            "colorscale": [
             [
              0,
              "#0d0887"
             ],
             [
              0.1111111111111111,
              "#46039f"
             ],
             [
              0.2222222222222222,
              "#7201a8"
             ],
             [
              0.3333333333333333,
              "#9c179e"
             ],
             [
              0.4444444444444444,
              "#bd3786"
             ],
             [
              0.5555555555555556,
              "#d8576b"
             ],
             [
              0.6666666666666666,
              "#ed7953"
             ],
             [
              0.7777777777777778,
              "#fb9f3a"
             ],
             [
              0.8888888888888888,
              "#fdca26"
             ],
             [
              1,
              "#f0f921"
             ]
            ],
            "type": "histogram2d"
           }
          ],
          "histogram2dcontour": [
           {
            "colorbar": {
             "outlinewidth": 0,
             "ticks": ""
            },
            "colorscale": [
             [
              0,
              "#0d0887"
             ],
             [
              0.1111111111111111,
              "#46039f"
             ],
             [
              0.2222222222222222,
              "#7201a8"
             ],
             [
              0.3333333333333333,
              "#9c179e"
             ],
             [
              0.4444444444444444,
              "#bd3786"
             ],
             [
              0.5555555555555556,
              "#d8576b"
             ],
             [
              0.6666666666666666,
              "#ed7953"
             ],
             [
              0.7777777777777778,
              "#fb9f3a"
             ],
             [
              0.8888888888888888,
              "#fdca26"
             ],
             [
              1,
              "#f0f921"
             ]
            ],
            "type": "histogram2dcontour"
           }
          ],
          "mesh3d": [
           {
            "colorbar": {
             "outlinewidth": 0,
             "ticks": ""
            },
            "type": "mesh3d"
           }
          ],
          "parcoords": [
           {
            "line": {
             "colorbar": {
              "outlinewidth": 0,
              "ticks": ""
             }
            },
            "type": "parcoords"
           }
          ],
          "pie": [
           {
            "automargin": true,
            "type": "pie"
           }
          ],
          "scatter": [
           {
            "fillpattern": {
             "fillmode": "overlay",
             "size": 10,
             "solidity": 0.2
            },
            "type": "scatter"
           }
          ],
          "scatter3d": [
           {
            "line": {
             "colorbar": {
              "outlinewidth": 0,
              "ticks": ""
             }
            },
            "marker": {
             "colorbar": {
              "outlinewidth": 0,
              "ticks": ""
             }
            },
            "type": "scatter3d"
           }
          ],
          "scattercarpet": [
           {
            "marker": {
             "colorbar": {
              "outlinewidth": 0,
              "ticks": ""
             }
            },
            "type": "scattercarpet"
           }
          ],
          "scattergeo": [
           {
            "marker": {
             "colorbar": {
              "outlinewidth": 0,
              "ticks": ""
             }
            },
            "type": "scattergeo"
           }
          ],
          "scattergl": [
           {
            "marker": {
             "colorbar": {
              "outlinewidth": 0,
              "ticks": ""
             }
            },
            "type": "scattergl"
           }
          ],
          "scattermapbox": [
           {
            "marker": {
             "colorbar": {
              "outlinewidth": 0,
              "ticks": ""
             }
            },
            "type": "scattermapbox"
           }
          ],
          "scatterpolar": [
           {
            "marker": {
             "colorbar": {
              "outlinewidth": 0,
              "ticks": ""
             }
            },
            "type": "scatterpolar"
           }
          ],
          "scatterpolargl": [
           {
            "marker": {
             "colorbar": {
              "outlinewidth": 0,
              "ticks": ""
             }
            },
            "type": "scatterpolargl"
           }
          ],
          "scatterternary": [
           {
            "marker": {
             "colorbar": {
              "outlinewidth": 0,
              "ticks": ""
             }
            },
            "type": "scatterternary"
           }
          ],
          "surface": [
           {
            "colorbar": {
             "outlinewidth": 0,
             "ticks": ""
            },
            "colorscale": [
             [
              0,
              "#0d0887"
             ],
             [
              0.1111111111111111,
              "#46039f"
             ],
             [
              0.2222222222222222,
              "#7201a8"
             ],
             [
              0.3333333333333333,
              "#9c179e"
             ],
             [
              0.4444444444444444,
              "#bd3786"
             ],
             [
              0.5555555555555556,
              "#d8576b"
             ],
             [
              0.6666666666666666,
              "#ed7953"
             ],
             [
              0.7777777777777778,
              "#fb9f3a"
             ],
             [
              0.8888888888888888,
              "#fdca26"
             ],
             [
              1,
              "#f0f921"
             ]
            ],
            "type": "surface"
           }
          ],
          "table": [
           {
            "cells": {
             "fill": {
              "color": "#EBF0F8"
             },
             "line": {
              "color": "white"
             }
            },
            "header": {
             "fill": {
              "color": "#C8D4E3"
             },
             "line": {
              "color": "white"
             }
            },
            "type": "table"
           }
          ]
         },
         "layout": {
          "annotationdefaults": {
           "arrowcolor": "#2a3f5f",
           "arrowhead": 0,
           "arrowwidth": 1
          },
          "autotypenumbers": "strict",
          "coloraxis": {
           "colorbar": {
            "outlinewidth": 0,
            "ticks": ""
           }
          },
          "colorscale": {
           "diverging": [
            [
             0,
             "#8e0152"
            ],
            [
             0.1,
             "#c51b7d"
            ],
            [
             0.2,
             "#de77ae"
            ],
            [
             0.3,
             "#f1b6da"
            ],
            [
             0.4,
             "#fde0ef"
            ],
            [
             0.5,
             "#f7f7f7"
            ],
            [
             0.6,
             "#e6f5d0"
            ],
            [
             0.7,
             "#b8e186"
            ],
            [
             0.8,
             "#7fbc41"
            ],
            [
             0.9,
             "#4d9221"
            ],
            [
             1,
             "#276419"
            ]
           ],
           "sequential": [
            [
             0,
             "#0d0887"
            ],
            [
             0.1111111111111111,
             "#46039f"
            ],
            [
             0.2222222222222222,
             "#7201a8"
            ],
            [
             0.3333333333333333,
             "#9c179e"
            ],
            [
             0.4444444444444444,
             "#bd3786"
            ],
            [
             0.5555555555555556,
             "#d8576b"
            ],
            [
             0.6666666666666666,
             "#ed7953"
            ],
            [
             0.7777777777777778,
             "#fb9f3a"
            ],
            [
             0.8888888888888888,
             "#fdca26"
            ],
            [
             1,
             "#f0f921"
            ]
           ],
           "sequentialminus": [
            [
             0,
             "#0d0887"
            ],
            [
             0.1111111111111111,
             "#46039f"
            ],
            [
             0.2222222222222222,
             "#7201a8"
            ],
            [
             0.3333333333333333,
             "#9c179e"
            ],
            [
             0.4444444444444444,
             "#bd3786"
            ],
            [
             0.5555555555555556,
             "#d8576b"
            ],
            [
             0.6666666666666666,
             "#ed7953"
            ],
            [
             0.7777777777777778,
             "#fb9f3a"
            ],
            [
             0.8888888888888888,
             "#fdca26"
            ],
            [
             1,
             "#f0f921"
            ]
           ]
          },
          "colorway": [
           "#636efa",
           "#EF553B",
           "#00cc96",
           "#ab63fa",
           "#FFA15A",
           "#19d3f3",
           "#FF6692",
           "#B6E880",
           "#FF97FF",
           "#FECB52"
          ],
          "font": {
           "color": "#2a3f5f"
          },
          "geo": {
           "bgcolor": "white",
           "lakecolor": "white",
           "landcolor": "#E5ECF6",
           "showlakes": true,
           "showland": true,
           "subunitcolor": "white"
          },
          "hoverlabel": {
           "align": "left"
          },
          "hovermode": "closest",
          "mapbox": {
           "style": "light"
          },
          "paper_bgcolor": "white",
          "plot_bgcolor": "#E5ECF6",
          "polar": {
           "angularaxis": {
            "gridcolor": "white",
            "linecolor": "white",
            "ticks": ""
           },
           "bgcolor": "#E5ECF6",
           "radialaxis": {
            "gridcolor": "white",
            "linecolor": "white",
            "ticks": ""
           }
          },
          "scene": {
           "xaxis": {
            "backgroundcolor": "#E5ECF6",
            "gridcolor": "white",
            "gridwidth": 2,
            "linecolor": "white",
            "showbackground": true,
            "ticks": "",
            "zerolinecolor": "white"
           },
           "yaxis": {
            "backgroundcolor": "#E5ECF6",
            "gridcolor": "white",
            "gridwidth": 2,
            "linecolor": "white",
            "showbackground": true,
            "ticks": "",
            "zerolinecolor": "white"
           },
           "zaxis": {
            "backgroundcolor": "#E5ECF6",
            "gridcolor": "white",
            "gridwidth": 2,
            "linecolor": "white",
            "showbackground": true,
            "ticks": "",
            "zerolinecolor": "white"
           }
          },
          "shapedefaults": {
           "line": {
            "color": "#2a3f5f"
           }
          },
          "ternary": {
           "aaxis": {
            "gridcolor": "white",
            "linecolor": "white",
            "ticks": ""
           },
           "baxis": {
            "gridcolor": "white",
            "linecolor": "white",
            "ticks": ""
           },
           "bgcolor": "#E5ECF6",
           "caxis": {
            "gridcolor": "white",
            "linecolor": "white",
            "ticks": ""
           }
          },
          "title": {
           "x": 0.05
          },
          "xaxis": {
           "automargin": true,
           "gridcolor": "white",
           "linecolor": "white",
           "ticks": "",
           "title": {
            "standoff": 15
           },
           "zerolinecolor": "white",
           "zerolinewidth": 2
          },
          "yaxis": {
           "automargin": true,
           "gridcolor": "white",
           "linecolor": "white",
           "ticks": "",
           "title": {
            "standoff": 15
           },
           "zerolinecolor": "white",
           "zerolinewidth": 2
          }
         }
        },
        "xaxis": {
         "anchor": "y",
         "domain": [
          0,
          1
         ],
         "title": {
          "text": "feature"
         }
        },
        "yaxis": {
         "anchor": "x",
         "domain": [
          0,
          1
         ],
         "title": {
          "text": "importance"
         }
        }
       }
      },
      "text/html": [
       "<div>                            <div id=\"35c796ab-a0e5-4914-81dc-463e28914752\" class=\"plotly-graph-div\" style=\"height:525px; width:100%;\"></div>            <script type=\"text/javascript\">                require([\"plotly\"], function(Plotly) {                    window.PLOTLYENV=window.PLOTLYENV || {};                                    if (document.getElementById(\"35c796ab-a0e5-4914-81dc-463e28914752\")) {                    Plotly.newPlot(                        \"35c796ab-a0e5-4914-81dc-463e28914752\",                        [{\"alignmentgroup\":\"True\",\"hovertemplate\":\"feature=%{x}<br>importance=%{y}<extra></extra>\",\"legendgroup\":\"\",\"marker\":{\"color\":\"#636efa\",\"pattern\":{\"shape\":\"\"}},\"name\":\"\",\"offsetgroup\":\"\",\"orientation\":\"v\",\"showlegend\":false,\"textposition\":\"auto\",\"x\":[\"VAR15\",\"VAR1\",\"VAR20\",\"VAR8\",\"VAR13\",\"VAR9\",\"VAR16\",\"VAR14\",\"VAR5\",\"VAR12\",\"VAR6\",\"VAR18\",\"VAR17\",\"VAR21\",\"VAR10\",\"VAR2\",\"VAR28\",\"VAR11\",\"VAR29\",\"VAR22\",\"VAR19\",\"VAR3\",\"VAR24\",\"VAR27\",\"VAR26\",\"VAR0\",\"VAR4\",\"VAR7\",\"VAR30\",\"VAR25\",\"VAR31\",\"VAR23\"],\"xaxis\":\"x\",\"y\":[0.010815875649491071,0.012503631531830036,0.014448792709216686,0.014486050343006582,0.01622735973133195,0.016773714835137035,0.017244928657691255,0.01923674196020086,0.02370698138473875,0.02389403615624946,0.024213069650792333,0.024788773855329054,0.025809775521326052,0.02586483153558407,0.026534521080816265,0.027828003333274832,0.028612038959207508,0.03076703023580551,0.03124785997647448,0.03200950828024492,0.03778104998224372,0.03799508754627636,0.03843678174690657,0.03904031364504256,0.043894580700035185,0.04423093304545074,0.049789090240851396,0.05001581965973502,0.05148176306106744,0.052416264628896106,0.052900508696747346,0.055004281658998906],\"yaxis\":\"y\",\"type\":\"bar\"}],                        {\"template\":{\"data\":{\"histogram2dcontour\":[{\"type\":\"histogram2dcontour\",\"colorbar\":{\"outlinewidth\":0,\"ticks\":\"\"},\"colorscale\":[[0.0,\"#0d0887\"],[0.1111111111111111,\"#46039f\"],[0.2222222222222222,\"#7201a8\"],[0.3333333333333333,\"#9c179e\"],[0.4444444444444444,\"#bd3786\"],[0.5555555555555556,\"#d8576b\"],[0.6666666666666666,\"#ed7953\"],[0.7777777777777778,\"#fb9f3a\"],[0.8888888888888888,\"#fdca26\"],[1.0,\"#f0f921\"]]}],\"choropleth\":[{\"type\":\"choropleth\",\"colorbar\":{\"outlinewidth\":0,\"ticks\":\"\"}}],\"histogram2d\":[{\"type\":\"histogram2d\",\"colorbar\":{\"outlinewidth\":0,\"ticks\":\"\"},\"colorscale\":[[0.0,\"#0d0887\"],[0.1111111111111111,\"#46039f\"],[0.2222222222222222,\"#7201a8\"],[0.3333333333333333,\"#9c179e\"],[0.4444444444444444,\"#bd3786\"],[0.5555555555555556,\"#d8576b\"],[0.6666666666666666,\"#ed7953\"],[0.7777777777777778,\"#fb9f3a\"],[0.8888888888888888,\"#fdca26\"],[1.0,\"#f0f921\"]]}],\"heatmap\":[{\"type\":\"heatmap\",\"colorbar\":{\"outlinewidth\":0,\"ticks\":\"\"},\"colorscale\":[[0.0,\"#0d0887\"],[0.1111111111111111,\"#46039f\"],[0.2222222222222222,\"#7201a8\"],[0.3333333333333333,\"#9c179e\"],[0.4444444444444444,\"#bd3786\"],[0.5555555555555556,\"#d8576b\"],[0.6666666666666666,\"#ed7953\"],[0.7777777777777778,\"#fb9f3a\"],[0.8888888888888888,\"#fdca26\"],[1.0,\"#f0f921\"]]}],\"heatmapgl\":[{\"type\":\"heatmapgl\",\"colorbar\":{\"outlinewidth\":0,\"ticks\":\"\"},\"colorscale\":[[0.0,\"#0d0887\"],[0.1111111111111111,\"#46039f\"],[0.2222222222222222,\"#7201a8\"],[0.3333333333333333,\"#9c179e\"],[0.4444444444444444,\"#bd3786\"],[0.5555555555555556,\"#d8576b\"],[0.6666666666666666,\"#ed7953\"],[0.7777777777777778,\"#fb9f3a\"],[0.8888888888888888,\"#fdca26\"],[1.0,\"#f0f921\"]]}],\"contourcarpet\":[{\"type\":\"contourcarpet\",\"colorbar\":{\"outlinewidth\":0,\"ticks\":\"\"}}],\"contour\":[{\"type\":\"contour\",\"colorbar\":{\"outlinewidth\":0,\"ticks\":\"\"},\"colorscale\":[[0.0,\"#0d0887\"],[0.1111111111111111,\"#46039f\"],[0.2222222222222222,\"#7201a8\"],[0.3333333333333333,\"#9c179e\"],[0.4444444444444444,\"#bd3786\"],[0.5555555555555556,\"#d8576b\"],[0.6666666666666666,\"#ed7953\"],[0.7777777777777778,\"#fb9f3a\"],[0.8888888888888888,\"#fdca26\"],[1.0,\"#f0f921\"]]}],\"surface\":[{\"type\":\"surface\",\"colorbar\":{\"outlinewidth\":0,\"ticks\":\"\"},\"colorscale\":[[0.0,\"#0d0887\"],[0.1111111111111111,\"#46039f\"],[0.2222222222222222,\"#7201a8\"],[0.3333333333333333,\"#9c179e\"],[0.4444444444444444,\"#bd3786\"],[0.5555555555555556,\"#d8576b\"],[0.6666666666666666,\"#ed7953\"],[0.7777777777777778,\"#fb9f3a\"],[0.8888888888888888,\"#fdca26\"],[1.0,\"#f0f921\"]]}],\"mesh3d\":[{\"type\":\"mesh3d\",\"colorbar\":{\"outlinewidth\":0,\"ticks\":\"\"}}],\"scatter\":[{\"fillpattern\":{\"fillmode\":\"overlay\",\"size\":10,\"solidity\":0.2},\"type\":\"scatter\"}],\"parcoords\":[{\"type\":\"parcoords\",\"line\":{\"colorbar\":{\"outlinewidth\":0,\"ticks\":\"\"}}}],\"scatterpolargl\":[{\"type\":\"scatterpolargl\",\"marker\":{\"colorbar\":{\"outlinewidth\":0,\"ticks\":\"\"}}}],\"bar\":[{\"error_x\":{\"color\":\"#2a3f5f\"},\"error_y\":{\"color\":\"#2a3f5f\"},\"marker\":{\"line\":{\"color\":\"#E5ECF6\",\"width\":0.5},\"pattern\":{\"fillmode\":\"overlay\",\"size\":10,\"solidity\":0.2}},\"type\":\"bar\"}],\"scattergeo\":[{\"type\":\"scattergeo\",\"marker\":{\"colorbar\":{\"outlinewidth\":0,\"ticks\":\"\"}}}],\"scatterpolar\":[{\"type\":\"scatterpolar\",\"marker\":{\"colorbar\":{\"outlinewidth\":0,\"ticks\":\"\"}}}],\"histogram\":[{\"marker\":{\"pattern\":{\"fillmode\":\"overlay\",\"size\":10,\"solidity\":0.2}},\"type\":\"histogram\"}],\"scattergl\":[{\"type\":\"scattergl\",\"marker\":{\"colorbar\":{\"outlinewidth\":0,\"ticks\":\"\"}}}],\"scatter3d\":[{\"type\":\"scatter3d\",\"line\":{\"colorbar\":{\"outlinewidth\":0,\"ticks\":\"\"}},\"marker\":{\"colorbar\":{\"outlinewidth\":0,\"ticks\":\"\"}}}],\"scattermapbox\":[{\"type\":\"scattermapbox\",\"marker\":{\"colorbar\":{\"outlinewidth\":0,\"ticks\":\"\"}}}],\"scatterternary\":[{\"type\":\"scatterternary\",\"marker\":{\"colorbar\":{\"outlinewidth\":0,\"ticks\":\"\"}}}],\"scattercarpet\":[{\"type\":\"scattercarpet\",\"marker\":{\"colorbar\":{\"outlinewidth\":0,\"ticks\":\"\"}}}],\"carpet\":[{\"aaxis\":{\"endlinecolor\":\"#2a3f5f\",\"gridcolor\":\"white\",\"linecolor\":\"white\",\"minorgridcolor\":\"white\",\"startlinecolor\":\"#2a3f5f\"},\"baxis\":{\"endlinecolor\":\"#2a3f5f\",\"gridcolor\":\"white\",\"linecolor\":\"white\",\"minorgridcolor\":\"white\",\"startlinecolor\":\"#2a3f5f\"},\"type\":\"carpet\"}],\"table\":[{\"cells\":{\"fill\":{\"color\":\"#EBF0F8\"},\"line\":{\"color\":\"white\"}},\"header\":{\"fill\":{\"color\":\"#C8D4E3\"},\"line\":{\"color\":\"white\"}},\"type\":\"table\"}],\"barpolar\":[{\"marker\":{\"line\":{\"color\":\"#E5ECF6\",\"width\":0.5},\"pattern\":{\"fillmode\":\"overlay\",\"size\":10,\"solidity\":0.2}},\"type\":\"barpolar\"}],\"pie\":[{\"automargin\":true,\"type\":\"pie\"}]},\"layout\":{\"autotypenumbers\":\"strict\",\"colorway\":[\"#636efa\",\"#EF553B\",\"#00cc96\",\"#ab63fa\",\"#FFA15A\",\"#19d3f3\",\"#FF6692\",\"#B6E880\",\"#FF97FF\",\"#FECB52\"],\"font\":{\"color\":\"#2a3f5f\"},\"hovermode\":\"closest\",\"hoverlabel\":{\"align\":\"left\"},\"paper_bgcolor\":\"white\",\"plot_bgcolor\":\"#E5ECF6\",\"polar\":{\"bgcolor\":\"#E5ECF6\",\"angularaxis\":{\"gridcolor\":\"white\",\"linecolor\":\"white\",\"ticks\":\"\"},\"radialaxis\":{\"gridcolor\":\"white\",\"linecolor\":\"white\",\"ticks\":\"\"}},\"ternary\":{\"bgcolor\":\"#E5ECF6\",\"aaxis\":{\"gridcolor\":\"white\",\"linecolor\":\"white\",\"ticks\":\"\"},\"baxis\":{\"gridcolor\":\"white\",\"linecolor\":\"white\",\"ticks\":\"\"},\"caxis\":{\"gridcolor\":\"white\",\"linecolor\":\"white\",\"ticks\":\"\"}},\"coloraxis\":{\"colorbar\":{\"outlinewidth\":0,\"ticks\":\"\"}},\"colorscale\":{\"sequential\":[[0.0,\"#0d0887\"],[0.1111111111111111,\"#46039f\"],[0.2222222222222222,\"#7201a8\"],[0.3333333333333333,\"#9c179e\"],[0.4444444444444444,\"#bd3786\"],[0.5555555555555556,\"#d8576b\"],[0.6666666666666666,\"#ed7953\"],[0.7777777777777778,\"#fb9f3a\"],[0.8888888888888888,\"#fdca26\"],[1.0,\"#f0f921\"]],\"sequentialminus\":[[0.0,\"#0d0887\"],[0.1111111111111111,\"#46039f\"],[0.2222222222222222,\"#7201a8\"],[0.3333333333333333,\"#9c179e\"],[0.4444444444444444,\"#bd3786\"],[0.5555555555555556,\"#d8576b\"],[0.6666666666666666,\"#ed7953\"],[0.7777777777777778,\"#fb9f3a\"],[0.8888888888888888,\"#fdca26\"],[1.0,\"#f0f921\"]],\"diverging\":[[0,\"#8e0152\"],[0.1,\"#c51b7d\"],[0.2,\"#de77ae\"],[0.3,\"#f1b6da\"],[0.4,\"#fde0ef\"],[0.5,\"#f7f7f7\"],[0.6,\"#e6f5d0\"],[0.7,\"#b8e186\"],[0.8,\"#7fbc41\"],[0.9,\"#4d9221\"],[1,\"#276419\"]]},\"xaxis\":{\"gridcolor\":\"white\",\"linecolor\":\"white\",\"ticks\":\"\",\"title\":{\"standoff\":15},\"zerolinecolor\":\"white\",\"automargin\":true,\"zerolinewidth\":2},\"yaxis\":{\"gridcolor\":\"white\",\"linecolor\":\"white\",\"ticks\":\"\",\"title\":{\"standoff\":15},\"zerolinecolor\":\"white\",\"automargin\":true,\"zerolinewidth\":2},\"scene\":{\"xaxis\":{\"backgroundcolor\":\"#E5ECF6\",\"gridcolor\":\"white\",\"linecolor\":\"white\",\"showbackground\":true,\"ticks\":\"\",\"zerolinecolor\":\"white\",\"gridwidth\":2},\"yaxis\":{\"backgroundcolor\":\"#E5ECF6\",\"gridcolor\":\"white\",\"linecolor\":\"white\",\"showbackground\":true,\"ticks\":\"\",\"zerolinecolor\":\"white\",\"gridwidth\":2},\"zaxis\":{\"backgroundcolor\":\"#E5ECF6\",\"gridcolor\":\"white\",\"linecolor\":\"white\",\"showbackground\":true,\"ticks\":\"\",\"zerolinecolor\":\"white\",\"gridwidth\":2}},\"shapedefaults\":{\"line\":{\"color\":\"#2a3f5f\"}},\"annotationdefaults\":{\"arrowcolor\":\"#2a3f5f\",\"arrowhead\":0,\"arrowwidth\":1},\"geo\":{\"bgcolor\":\"white\",\"landcolor\":\"#E5ECF6\",\"subunitcolor\":\"white\",\"showland\":true,\"showlakes\":true,\"lakecolor\":\"white\"},\"title\":{\"x\":0.05},\"mapbox\":{\"style\":\"light\"}}},\"xaxis\":{\"anchor\":\"y\",\"domain\":[0.0,1.0],\"title\":{\"text\":\"feature\"}},\"yaxis\":{\"anchor\":\"x\",\"domain\":[0.0,1.0],\"title\":{\"text\":\"importance\"}},\"legend\":{\"tracegroupgap\":0},\"margin\":{\"t\":60},\"barmode\":\"relative\"},                        {\"responsive\": true}                    ).then(function(){\n",
       "                            \n",
       "var gd = document.getElementById('35c796ab-a0e5-4914-81dc-463e28914752');\n",
       "var x = new MutationObserver(function (mutations, observer) {{\n",
       "        var display = window.getComputedStyle(gd).display;\n",
       "        if (!display || display === 'none') {{\n",
       "            console.log([gd, 'removed!']);\n",
       "            Plotly.purge(gd);\n",
       "            observer.disconnect();\n",
       "        }}\n",
       "}});\n",
       "\n",
       "// Listen for the removal of the full notebook cells\n",
       "var notebookContainer = gd.closest('#notebook-container');\n",
       "if (notebookContainer) {{\n",
       "    x.observe(notebookContainer, {childList: true});\n",
       "}}\n",
       "\n",
       "// Listen for the clearing of the current output cell\n",
       "var outputEl = gd.closest('.output');\n",
       "if (outputEl) {{\n",
       "    x.observe(outputEl, {childList: true});\n",
       "}}\n",
       "\n",
       "                        })                };                });            </script>        </div>"
      ]
     },
     "metadata": {},
     "output_type": "display_data"
    }
   ],
   "source": [
    "import plotly.express as px\n",
    "\n",
    "fig = px.bar(feature_importance, x='feature', y='importance')\n",
    "fig.show()"
   ]
  },
  {
   "cell_type": "code",
   "execution_count": 17,
   "id": "687ef797",
   "metadata": {},
   "outputs": [],
   "source": [
    "######################### 2. Face Aging Correction Using Polynomial Regression #########################"
   ]
  },
  {
   "cell_type": "code",
   "execution_count": 18,
   "id": "d001cc48",
   "metadata": {},
   "outputs": [],
   "source": [
    "#Celeb Data 변수값 csv 파일로 저장\n",
    "i=0\n",
    "array = [[0 for col in range(33)] for row in range(101)]\n",
    "count2 = 0\n",
    "\n",
    "for j in range(100):\n",
    "    \n",
    "    count = i % 2\n",
    "    if i % 2 == 0 and i!= 0:\n",
    "        count2 += 1\n",
    "    name = str(i)+'.jpg'\n",
    "    os.chdir('C:/Users/user/Machine_Learning/Celeb')\n",
    "    image = cv2.imread(name)\n",
    "    image = imutils.resize(image, width=500)\n",
    "    image = cv2.cvtColor(image, cv2.COLOR_BGR2RGB)\n",
    "    gray = cv2.cvtColor(image, cv2.COLOR_RGB2GRAY)\n",
    "\n",
    "    faces = face_cascade.detectMultiScale(gray, 1.3, 5)\n",
    "\n",
    "    for (x,y,w,h) in faces:\n",
    "        cv2.rectangle(image,(x,y),(x+w,y+h),(255,0,0),2)\n",
    "\n",
    "    rect=dlib.rectangle(int(x), int(y), int(x + w), int(y + h))\n",
    "\n",
    "    shape = predictor(gray, rect)\n",
    "    shape = shape_to_numpy_array(shape)\n",
    "    \n",
    "    var(i)\n",
    "    \n",
    "    i += 1\n",
    "    \n",
    "for i in range(32):\n",
    "    array[0][i]= i\n",
    "    \n",
    "array[0][32] = 100\n",
    "\n",
    "os.chdir('C:/Users/user/Machine_Learning/Celeb')\n",
    "dataframe = pd.DataFrame(array)\n",
    "dataframe.to_csv('Celeb_VAR.csv', header=False, index=False)"
   ]
  },
  {
   "cell_type": "code",
   "execution_count": 19,
   "id": "3ea51f14",
   "metadata": {},
   "outputs": [],
   "source": [
    "#transform csv file\n",
    "os.chdir('C:/Users/user/Machine_Learning/Celeb')\n",
    "data = pd.read_csv(\"Celeb_VAR.csv\")\n",
    "Ydata = data.loc[[0,2,4,6,8,10,12,14,16,18,20,22,24,26,28,30,32,34,36,38,40,42,44,46,48,50,52,54,56,58,60,62,64,66,68,70,72,74,76,78,80,82,84,86,88,90,92,94,96,98],:]\n",
    "Ydata = Ydata.values.tolist()\n",
    "Ydata = pd.DataFrame(Ydata, columns = ['y0','y1','y2','y3','y4','y5','y6','y7','y8','y9','y10','y11','y12','y13','y14','y15','y16','y17','y18','y19','y20','y21','y22','y23','y24','y25','y26','y27','y28','y29','y30','y31','T'])\n",
    "Ydata = Ydata.drop(['T'], axis = 1)\n",
    "\n",
    "Odata = data.loc[[1,3,5,7,9,11,13,15,17,19,21,23,25,27,29,31,33,35,37,39,41,43,45,47,49,51,53,55,57,59,61,63,65,67,69,71,73,75,77,79,81,83,85,87,89,91,93,95,97,99],:]\n",
    "Odata = Odata.values.tolist()\n",
    "Odata = pd.DataFrame(Odata, columns = ['o0','o1','o2','o3','o4','o5','o6','o7','o8','o9','o10','o11','o12','o13','o14','o15','o16','o17','o18','o19','o20','o21','o22','o23','o24','o25','o26','o27','o28','o29','o30','o31','T'])\n",
    "Odata = Odata.drop(['T'], axis = 1)\n",
    "data = pd.concat([Ydata, Odata], axis = 1)\n",
    "data.to_csv('C:/Users/user/Machine_Learning/Celeb/Celeb_VAR.csv')"
   ]
  },
  {
   "cell_type": "code",
   "execution_count": 20,
   "id": "a84dd399",
   "metadata": {},
   "outputs": [
    {
     "name": "stdout",
     "output_type": "stream",
     "text": [
      "(40, 64) (10, 64)\n"
     ]
    }
   ],
   "source": [
    "train_set, test_set = train_test_split(data, test_size=0.2, random_state=42)\n",
    "print(train_set.shape, test_set.shape)"
   ]
  },
  {
   "cell_type": "code",
   "execution_count": 21,
   "id": "49c02101",
   "metadata": {},
   "outputs": [
    {
     "data": {
      "text/plain": [
       "<AxesSubplot:xlabel='o0', ylabel='y0'>"
      ]
     },
     "execution_count": 21,
     "metadata": {},
     "output_type": "execute_result"
    },
    {
     "data": {
      "image/png": "[encoded data removed]",
      "text/plain": [
       "<Figure size 432x288 with 1 Axes>"
      ]
     },
     "metadata": {
      "needs_background": "light"
     },
     "output_type": "display_data"
    }
   ],
   "source": [
    "vx=\"o0\"\n",
    "vy=\"y0\"\n",
    "\n",
    "data.plot(kind=\"scatter\", x=vx, y=vy)"
   ]
  },
  {
   "cell_type": "code",
   "execution_count": 22,
   "id": "577963a5",
   "metadata": {},
   "outputs": [],
   "source": [
    "data1 = train_set[[vx]].copy()\n",
    "data1_labels = train_set[[vy]].copy()\n",
    "\n",
    "test1 = test_set[[vx]].copy()\n",
    "test1_labels = test_set[[vy]].copy()"
   ]
  },
  {
   "cell_type": "code",
   "execution_count": 23,
   "id": "0a2e0563",
   "metadata": {},
   "outputs": [
    {
     "data": {
      "text/plain": [
       "array([6.05139810e+01, 3.66194189e+03, 2.21598682e+05])"
      ]
     },
     "execution_count": 23,
     "metadata": {},
     "output_type": "execute_result"
    }
   ],
   "source": [
    "from sklearn.preprocessing import PolynomialFeatures\n",
    "from sklearn.linear_model import LinearRegression\n",
    "\n",
    "i_d=3 #차수 \n",
    "poly_features = PolynomialFeatures(degree=i_d, include_bias=False)\n",
    "X_poly = poly_features.fit_transform(data1)\n",
    "X_poly[0]"
   ]
  },
  {
   "cell_type": "code",
   "execution_count": 24,
   "id": "5b692f82",
   "metadata": {},
   "outputs": [
    {
     "name": "stdout",
     "output_type": "stream",
     "text": [
      "[[-4.23643476e+01  6.26587506e-01 -3.05276411e-03]]\n"
     ]
    }
   ],
   "source": [
    "num = [0]*4 #계수\n",
    "\n",
    "lin_reg = LinearRegression()\n",
    "lin_reg.fit(X_poly, data1_labels)\n",
    "lin_reg.intercept_, lin_reg.coef_\n",
    "\n",
    "print(lin_reg.coef_)\n",
    "num = [0]*4\n",
    "\n",
    "num[0] = lin_reg.intercept_\n",
    "num[1] = lin_reg.coef_[0][0]\n",
    "num[2] = lin_reg.coef_[0][1]\n",
    "num[3] = lin_reg.coef_[0][2]"
   ]
  },
  {
   "cell_type": "code",
   "execution_count": 25,
   "id": "908ed2e3",
   "metadata": {},
   "outputs": [
    {
     "data": {
      "text/plain": [
       "2.7247658715759853"
      ]
     },
     "execution_count": 25,
     "metadata": {},
     "output_type": "execute_result"
    }
   ],
   "source": [
    "from sklearn.metrics import mean_squared_error\n",
    "\n",
    "y_tr = lin_reg.predict(X_poly)\n",
    "mean_squared_error(y_tr, data1_labels, squared = False)"
   ]
  },
  {
   "cell_type": "code",
   "execution_count": 26,
   "id": "2b2f73fe",
   "metadata": {},
   "outputs": [
    {
     "name": "stdout",
     "output_type": "stream",
     "text": [
      "o0\n",
      "2.171602379994836\n"
     ]
    }
   ],
   "source": [
    "test1_poly = poly_features.fit_transform(test1)\n",
    "y_p = lin_reg.predict(test1_poly)\n",
    "mean_squared_error(y_p, test1_labels, squared = False)\n",
    "print(vx)\n",
    "print(mean_squared_error(y_p, test1_labels, squared = False))"
   ]
  },
  {
   "cell_type": "code",
   "execution_count": 27,
   "id": "aed38a43",
   "metadata": {},
   "outputs": [
    {
     "data": {
      "text/plain": [
       "[<matplotlib.lines.Line2D at 0x20fb74930d0>]"
      ]
     },
     "execution_count": 27,
     "metadata": {},
     "output_type": "execute_result"
    },
    {
     "data": {
      "image/png": "[encoded data removed]",
      "text/plain": [
       "<Figure size 432x288 with 1 Axes>"
      ]
     },
     "metadata": {
      "needs_background": "light"
     },
     "output_type": "display_data"
    }
   ],
   "source": [
    "import pylab as pl\n",
    "import matplotlib.font_manager as fm\n",
    "\n",
    "p_y=lin_reg.predict(X_poly)\n",
    "x=np.unique(data1)\n",
    "y=np.unique(p_y)\n",
    "\n",
    "pl.plot(data1, data1_labels, 'k.')\n",
    "\n",
    "plt.xlabel(\"training o0\", fontsize=13)                     \n",
    "plt.ylabel(\"training y0\", rotation=90, fontsize=13) \n",
    "pl.plot(x, y,'g')"
   ]
  },
  {
   "cell_type": "code",
   "execution_count": 28,
   "id": "3cd46933",
   "metadata": {},
   "outputs": [],
   "source": [
    "#Aging Correction\n",
    "def old2young(var, value):\n",
    "    \n",
    "    os.chdir('C:/Users/user/Machine_Learning/Celeb')\n",
    "    data = pd.read_csv(\"Celeb_VAR.csv\")\n",
    "\n",
    "    train_set, test_set = train_test_split(data, test_size=0.2, random_state=42)\n",
    "\n",
    "    vx = \"o\"+str(var)\n",
    "    vy = \"y\"+str(var)\n",
    "\n",
    "    data1 = train_set[[vx]].copy()\n",
    "    data1_labels = train_set[[vy]].copy()\n",
    "\n",
    "    test1 = test_set[[vx]].copy()\n",
    "    test1_labels = test_set[[vy]].copy()\n",
    "\n",
    "    i_d=3\n",
    "    poly_features = PolynomialFeatures(degree=i_d, include_bias=False)\n",
    "    X_poly = poly_features.fit_transform(data1)\n",
    "    lin_reg = LinearRegression()\n",
    "    lin_reg.fit(X_poly, data1_labels)\n",
    "    \n",
    "    num = [0]*4\n",
    "\n",
    "    num[0] = lin_reg.intercept_\n",
    "    num[1] = lin_reg.coef_[0][0]\n",
    "    num[2] = lin_reg.coef_[0][1]\n",
    "    num[3] = lin_reg.coef_[0][2]\n",
    "    \n",
    "    x = value\n",
    "    p_y = num[3]*(x**3)+num[2]*(x**2)+num[1]*x+num[0]\n",
    "    \n",
    "    return p_y"
   ]
  },
  {
   "cell_type": "code",
   "execution_count": 29,
   "id": "0ebdb389",
   "metadata": {},
   "outputs": [],
   "source": [
    "######################### 3. Family Face Similarity #########################"
   ]
  },
  {
   "cell_type": "code",
   "execution_count": 30,
   "id": "ea00c91d",
   "metadata": {},
   "outputs": [],
   "source": [
    "#Family Face Data 변수값 csv 파일로 저장\n",
    "i=0\n",
    "array = [[0 for col in range(33)] for row in range(7)]\n",
    "count2 = 0\n",
    "\n",
    "for j in range(6):\n",
    "    \n",
    "    count = i % 1\n",
    "    if i % 1 == 0 and i!= 0:\n",
    "        count2 += 1\n",
    "    name = str(i)+'.jpg'\n",
    "    os.chdir('C:/Users/user/Machine_Learning/Family_Face_Data')\n",
    "    image = cv2.imread(name)\n",
    "    image = imutils.resize(image, width=500)\n",
    "    image = cv2.cvtColor(image, cv2.COLOR_BGR2RGB)\n",
    "    gray = cv2.cvtColor(image, cv2.COLOR_RGB2GRAY)\n",
    "\n",
    "    faces = face_cascade.detectMultiScale(gray, 1.3, 5)\n",
    "\n",
    "    for (x,y,w,h) in faces:\n",
    "        cv2.rectangle(image,(x,y),(x+w,y+h),(255,0,0),2)\n",
    "\n",
    "    rect=dlib.rectangle(int(x), int(y), int(x + w), int(y + h))\n",
    "\n",
    "    shape = predictor(gray, rect)\n",
    "    shape = shape_to_numpy_array(shape)\n",
    "    \n",
    "    var(i)\n",
    "    \n",
    "    i += 1\n",
    "    \n",
    "for i in range(32):\n",
    "    array[0][i]= i\n",
    "    \n",
    "array[0][32] = 100\n",
    "\n",
    "os.chdir('C:/Users/user/Machine_Learning/Family_Face_Data')\n",
    "dataframe = pd.DataFrame(array)\n",
    "dataframe.to_csv('Family_Var.csv', header=False, index=False)"
   ]
  },
  {
   "cell_type": "code",
   "execution_count": 31,
   "id": "972f9719",
   "metadata": {},
   "outputs": [],
   "source": [
    "#Change Index Name on the CSV File"
   ]
  },
  {
   "cell_type": "code",
   "execution_count": 32,
   "id": "84c8b8bb",
   "metadata": {
    "scrolled": true
   },
   "outputs": [
    {
     "data": {
      "text/html": [
       "<div>\n",
       "<style scoped>\n",
       "    .dataframe tbody tr th:only-of-type {\n",
       "        vertical-align: middle;\n",
       "    }\n",
       "\n",
       "    .dataframe tbody tr th {\n",
       "        vertical-align: top;\n",
       "    }\n",
       "\n",
       "    .dataframe thead th {\n",
       "        text-align: right;\n",
       "    }\n",
       "</style>\n",
       "<table border=\"1\" class=\"dataframe\">\n",
       "  <thead>\n",
       "    <tr style=\"text-align: right;\">\n",
       "      <th></th>\n",
       "      <th>VAR0</th>\n",
       "      <th>VAR1</th>\n",
       "      <th>VAR2</th>\n",
       "      <th>VAR3</th>\n",
       "      <th>VAR4</th>\n",
       "      <th>VAR5</th>\n",
       "      <th>VAR6</th>\n",
       "      <th>VAR7</th>\n",
       "      <th>VAR8</th>\n",
       "      <th>VAR9</th>\n",
       "      <th>...</th>\n",
       "      <th>VAR23</th>\n",
       "      <th>VAR24</th>\n",
       "      <th>VAR25</th>\n",
       "      <th>VAR26</th>\n",
       "      <th>VAR27</th>\n",
       "      <th>VAR28</th>\n",
       "      <th>VAR29</th>\n",
       "      <th>VAR30</th>\n",
       "      <th>VAR31</th>\n",
       "      <th>TARGET</th>\n",
       "    </tr>\n",
       "  </thead>\n",
       "  <tbody>\n",
       "    <tr>\n",
       "      <th>0</th>\n",
       "      <td>66.203476</td>\n",
       "      <td>168.966210</td>\n",
       "      <td>0.278634</td>\n",
       "      <td>0.519064</td>\n",
       "      <td>1.304485</td>\n",
       "      <td>131.877051</td>\n",
       "      <td>133.951019</td>\n",
       "      <td>21.898193</td>\n",
       "      <td>2.334496</td>\n",
       "      <td>2.302173</td>\n",
       "      <td>...</td>\n",
       "      <td>0.293973</td>\n",
       "      <td>139.641869</td>\n",
       "      <td>1.749108</td>\n",
       "      <td>0.400755</td>\n",
       "      <td>0.312980</td>\n",
       "      <td>0.522779</td>\n",
       "      <td>0.408277</td>\n",
       "      <td>35.371441</td>\n",
       "      <td>0.229120</td>\n",
       "      <td>0</td>\n",
       "    </tr>\n",
       "    <tr>\n",
       "      <th>1</th>\n",
       "      <td>57.498578</td>\n",
       "      <td>157.163820</td>\n",
       "      <td>0.250148</td>\n",
       "      <td>0.458057</td>\n",
       "      <td>1.097214</td>\n",
       "      <td>137.103686</td>\n",
       "      <td>142.222813</td>\n",
       "      <td>18.163553</td>\n",
       "      <td>2.178658</td>\n",
       "      <td>2.033134</td>\n",
       "      <td>...</td>\n",
       "      <td>0.269213</td>\n",
       "      <td>147.402597</td>\n",
       "      <td>1.767951</td>\n",
       "      <td>0.442249</td>\n",
       "      <td>0.354013</td>\n",
       "      <td>0.485242</td>\n",
       "      <td>0.388428</td>\n",
       "      <td>34.262172</td>\n",
       "      <td>0.250148</td>\n",
       "      <td>1</td>\n",
       "    </tr>\n",
       "    <tr>\n",
       "      <th>2</th>\n",
       "      <td>68.925181</td>\n",
       "      <td>156.288849</td>\n",
       "      <td>0.209501</td>\n",
       "      <td>0.405932</td>\n",
       "      <td>1.372985</td>\n",
       "      <td>131.628738</td>\n",
       "      <td>134.707179</td>\n",
       "      <td>22.918683</td>\n",
       "      <td>1.910715</td>\n",
       "      <td>1.831910</td>\n",
       "      <td>...</td>\n",
       "      <td>0.292306</td>\n",
       "      <td>146.404480</td>\n",
       "      <td>2.047147</td>\n",
       "      <td>0.383976</td>\n",
       "      <td>0.287848</td>\n",
       "      <td>0.527193</td>\n",
       "      <td>0.395211</td>\n",
       "      <td>29.533179</td>\n",
       "      <td>0.187566</td>\n",
       "      <td>2</td>\n",
       "    </tr>\n",
       "    <tr>\n",
       "      <th>3</th>\n",
       "      <td>64.106125</td>\n",
       "      <td>159.687174</td>\n",
       "      <td>0.249993</td>\n",
       "      <td>0.462689</td>\n",
       "      <td>1.252317</td>\n",
       "      <td>136.234575</td>\n",
       "      <td>135.165054</td>\n",
       "      <td>19.719142</td>\n",
       "      <td>2.281019</td>\n",
       "      <td>2.092927</td>\n",
       "      <td>...</td>\n",
       "      <td>0.272380</td>\n",
       "      <td>142.386043</td>\n",
       "      <td>2.149041</td>\n",
       "      <td>0.376874</td>\n",
       "      <td>0.283574</td>\n",
       "      <td>0.471965</td>\n",
       "      <td>0.355125</td>\n",
       "      <td>28.361485</td>\n",
       "      <td>0.175368</td>\n",
       "      <td>3</td>\n",
       "    </tr>\n",
       "    <tr>\n",
       "      <th>4</th>\n",
       "      <td>66.290133</td>\n",
       "      <td>160.687504</td>\n",
       "      <td>0.251227</td>\n",
       "      <td>0.469285</td>\n",
       "      <td>1.306210</td>\n",
       "      <td>134.493611</td>\n",
       "      <td>133.692553</td>\n",
       "      <td>21.107286</td>\n",
       "      <td>2.047384</td>\n",
       "      <td>1.970596</td>\n",
       "      <td>...</td>\n",
       "      <td>0.284357</td>\n",
       "      <td>157.905770</td>\n",
       "      <td>1.853659</td>\n",
       "      <td>0.360186</td>\n",
       "      <td>0.251182</td>\n",
       "      <td>0.470478</td>\n",
       "      <td>0.328096</td>\n",
       "      <td>31.784316</td>\n",
       "      <td>0.194311</td>\n",
       "      <td>4</td>\n",
       "    </tr>\n",
       "    <tr>\n",
       "      <th>5</th>\n",
       "      <td>64.701516</td>\n",
       "      <td>165.912115</td>\n",
       "      <td>0.229164</td>\n",
       "      <td>0.433345</td>\n",
       "      <td>1.268024</td>\n",
       "      <td>138.025575</td>\n",
       "      <td>140.141037</td>\n",
       "      <td>24.912916</td>\n",
       "      <td>2.113909</td>\n",
       "      <td>2.033835</td>\n",
       "      <td>...</td>\n",
       "      <td>0.327281</td>\n",
       "      <td>150.484170</td>\n",
       "      <td>1.947069</td>\n",
       "      <td>0.390603</td>\n",
       "      <td>0.299297</td>\n",
       "      <td>0.495294</td>\n",
       "      <td>0.379515</td>\n",
       "      <td>30.788963</td>\n",
       "      <td>0.200611</td>\n",
       "      <td>5</td>\n",
       "    </tr>\n",
       "  </tbody>\n",
       "</table>\n",
       "<p>6 rows × 33 columns</p>\n",
       "</div>"
      ],
      "text/plain": [
       "        VAR0        VAR1      VAR2      VAR3      VAR4        VAR5  \\\n",
       "0  66.203476  168.966210  0.278634  0.519064  1.304485  131.877051   \n",
       "1  57.498578  157.163820  0.250148  0.458057  1.097214  137.103686   \n",
       "2  68.925181  156.288849  0.209501  0.405932  1.372985  131.628738   \n",
       "3  64.106125  159.687174  0.249993  0.462689  1.252317  136.234575   \n",
       "4  66.290133  160.687504  0.251227  0.469285  1.306210  134.493611   \n",
       "5  64.701516  165.912115  0.229164  0.433345  1.268024  138.025575   \n",
       "\n",
       "         VAR6       VAR7      VAR8      VAR9  ...     VAR23       VAR24  \\\n",
       "0  133.951019  21.898193  2.334496  2.302173  ...  0.293973  139.641869   \n",
       "1  142.222813  18.163553  2.178658  2.033134  ...  0.269213  147.402597   \n",
       "2  134.707179  22.918683  1.910715  1.831910  ...  0.292306  146.404480   \n",
       "3  135.165054  19.719142  2.281019  2.092927  ...  0.272380  142.386043   \n",
       "4  133.692553  21.107286  2.047384  1.970596  ...  0.284357  157.905770   \n",
       "5  140.141037  24.912916  2.113909  2.033835  ...  0.327281  150.484170   \n",
       "\n",
       "      VAR25     VAR26     VAR27     VAR28     VAR29      VAR30     VAR31  \\\n",
       "0  1.749108  0.400755  0.312980  0.522779  0.408277  35.371441  0.229120   \n",
       "1  1.767951  0.442249  0.354013  0.485242  0.388428  34.262172  0.250148   \n",
       "2  2.047147  0.383976  0.287848  0.527193  0.395211  29.533179  0.187566   \n",
       "3  2.149041  0.376874  0.283574  0.471965  0.355125  28.361485  0.175368   \n",
       "4  1.853659  0.360186  0.251182  0.470478  0.328096  31.784316  0.194311   \n",
       "5  1.947069  0.390603  0.299297  0.495294  0.379515  30.788963  0.200611   \n",
       "\n",
       "   TARGET  \n",
       "0       0  \n",
       "1       1  \n",
       "2       2  \n",
       "3       3  \n",
       "4       4  \n",
       "5       5  \n",
       "\n",
       "[6 rows x 33 columns]"
      ]
     },
     "execution_count": 32,
     "metadata": {},
     "output_type": "execute_result"
    }
   ],
   "source": [
    "os.chdir('C:/Users/user/Machine_Learning/Family_Face_Data')\n",
    "data = pd.read_csv(\"Family_Var.csv\")\n",
    "data"
   ]
  },
  {
   "cell_type": "code",
   "execution_count": 34,
   "id": "f376172f",
   "metadata": {},
   "outputs": [],
   "source": [
    "for i in range(6):\n",
    "    if i % 3 == 0 or i % 3 == 1:\n",
    "        val = data.at[i, 'VAR0']\n",
    "        data.at[i, 'VAR0'] = old2young(0, val)\n",
    "        val = data.at[i, 'VAR7']\n",
    "        data.at[i, 'VAR7'] = old2young(7, val)\n",
    "        val = data.at[i, 'VAR23']\n",
    "        data.at[i, 'VAR23'] = old2young(23, val)\n",
    "        val = data.at[i, 'VAR25']\n",
    "        data.at[i, 'VAR25'] = old2young(25, val)\n",
    "        val = data.at[i, 'VAR26']\n",
    "        data.at[i, 'VAR26'] = old2young(26, val)\n",
    "        val = data.at[i, 'VAR30']\n",
    "        data.at[i, 'VAR30'] = old2young(30, val)\n",
    "        val = data.at[i, 'VAR31']\n",
    "        data.at[i, 'VAR31'] = old2young(31, val)"
   ]
  },
  {
   "cell_type": "code",
   "execution_count": 35,
   "id": "560bb10b",
   "metadata": {},
   "outputs": [],
   "source": [
    "#유사도 계산\n",
    "arr_fm = data.to_numpy()\n",
    "\n",
    "def sim(i): #i = VAR, 사람 세명 비교\n",
    "    child = arr_fm[5][i]\n",
    "    mom = arr_fm[4][i]\n",
    "    dad = arr_fm[3][i]\n",
    "    \n",
    "    M = abs(mom - child)\n",
    "    D = abs(dad - child)\n",
    "    \n",
    "    if min(M, D) == M:\n",
    "        return print('아이는 VAR' + str(i) + '에 대해 엄마를 더 닮았습니다.')\n",
    "    \n",
    "    else:\n",
    "        return print('아이는 VAR' + str(i) + '에 대해 아빠를 더 닮았습니다.')\n",
    "    \n",
    "def per(m,d):\n",
    "    sum = m + d\n",
    "    if m > d :\n",
    "        per = (m / sum)*100\n",
    "        return print('아이는 ' + str(per) + '%로 엄마를 더 닮았습니다.')\n",
    "    \n",
    "    elif m < d :\n",
    "        per = (d / sum)*100\n",
    "        return print('아이는 ' + str(per) + '%로 아빠를 더 닮았습니다.')\n",
    "    \n",
    "    else:\n",
    "        return print('아이는 엄마 아빠를 반반씩 닮았습니다.') "
   ]
  },
  {
   "cell_type": "code",
   "execution_count": 36,
   "id": "b21c3553",
   "metadata": {},
   "outputs": [
    {
     "name": "stdout",
     "output_type": "stream",
     "text": [
      "아이는 VAR0에 대해 아빠를 더 닮았습니다.\n",
      "아이는 VAR7에 대해 엄마를 더 닮았습니다.\n",
      "아이는 VAR23에 대해 엄마를 더 닮았습니다.\n",
      "아이는 VAR25에 대해 아빠를 더 닮았습니다.\n",
      "아이는 VAR26에 대해 아빠를 더 닮았습니다.\n",
      "아이는 VAR30에 대해 아빠를 더 닮았습니다.\n",
      "아이는 VAR31에 대해 엄마를 더 닮았습니다.\n"
     ]
    }
   ],
   "source": [
    "#ex. person2\n",
    "sim(0)\n",
    "sim(7)\n",
    "sim(23)\n",
    "sim(25)\n",
    "sim(26)\n",
    "sim(30)\n",
    "sim(31)"
   ]
  },
  {
   "cell_type": "code",
   "execution_count": 37,
   "id": "a12629e2",
   "metadata": {},
   "outputs": [
    {
     "name": "stdout",
     "output_type": "stream",
     "text": [
      "아이는 57.14285714285714%로 아빠를 더 닮았습니다.\n"
     ]
    }
   ],
   "source": [
    "per(3,4)"
   ]
  }
 ],
 "metadata": {
  "kernelspec": {
   "display_name": "Python 3 (ipykernel)",
   "language": "python",
   "name": "python3"
  },
  "language_info": {
   "codemirror_mode": {
    "name": "ipython",
    "version": 3
   },
   "file_extension": ".py",
   "mimetype": "text/x-python",
   "name": "python",
   "nbconvert_exporter": "python",
   "pygments_lexer": "ipython3",
   "version": "3.9.7"
  }
 },
 "nbformat": 4,
 "nbformat_minor": 5
}
